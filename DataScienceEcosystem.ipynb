{
 "cells": [
  {
   "cell_type": "markdown",
   "id": "c3ad22d7",
   "metadata": {},
   "source": [
    "<h1>Data Science Tools and Ecosystem</h1>"
   ]
  },
  {
   "cell_type": "markdown",
   "id": "c1b4ffff",
   "metadata": {},
   "source": [
    "## In this notebook, Data Science Tools and Ecosystem are summarized."
   ]
  },
  {
   "cell_type": "markdown",
   "id": "684ca723",
   "metadata": {},
   "source": [
    "<h2>Author</h2>Vishwa"
   ]
  },
  {
   "cell_type": "markdown",
   "id": "b2262d77",
   "metadata": {},
   "source": [
    "<h2><b>Objectives</b></h2>\n",
    "<p>List popular languages for Data Science</p>\n",
    "<ul>\n",
    "    <li>R</li>\n",
    "    <li>Python</li>\n",
    "    <li>Java</li>\n",
    "    <li>SQL</li>\n",
    " </ul>\n",
    " "
   ]
  },
  {
   "cell_type": "markdown",
   "id": "da5aab8d",
   "metadata": {},
   "source": [
    "<h3>Some of the popular languages that Data Scientists use are:</h3>\n",
    "<ol>\n",
    "    <li>R</li>\n",
    "    <li>Python</li>\n",
    "    <li>Java</li>\n",
    "    <li>SQL</li>\n",
    " </ol>\n",
    " "
   ]
  },
  {
   "cell_type": "markdown",
   "id": "2e58eead",
   "metadata": {},
   "source": [
    "<h3>Some of the commonly used libraries used by Data Scientists include</h3>\n",
    "<ol>\n",
    "    <li>Pandas</li>\n",
    "    <li>Matploatlib</li>\n",
    "    <li>Numpy</li>\n",
    "    <li>SciPy</li>\n",
    " </ol>"
   ]
  },
  {
   "cell_type": "markdown",
   "id": "6ffaed2a",
   "metadata": {},
   "source": [
    "<html>\n",
    "    <body>\n",
    "<table>\n",
    "    <tr>\n",
    "        <th>Data Science Tools</th>\n",
    "        </tr>\n",
    "    <tr>\n",
    "        <td>PyTorch</td>\n",
    "    </tr>\n",
    "    <tr>\n",
    "    <td>TensorFlow</td>\n",
    "      </tr>\n",
    "    <tr>\n",
    "        <td>KNIME</td>\n",
    "       </tr>\n",
    " </table>\n",
    "    </body>\n",
    "  </html>"
   ]
  },
  {
   "cell_type": "markdown",
   "id": "38d70184",
   "metadata": {},
   "source": [
    "<h3>Below are a few examples of evaluating arithmetic expressions in Python</h3>"
   ]
  },
  {
   "cell_type": "markdown",
   "id": "7abea573",
   "metadata": {},
   "source": [
    "This a simple arithmetic expression to mutiply then add integers"
   ]
  },
  {
   "cell_type": "code",
   "execution_count": 1,
   "id": "10e4aa0e",
   "metadata": {},
   "outputs": [
    {
     "data": {
      "text/plain": [
       "17"
      ]
     },
     "execution_count": 1,
     "metadata": {},
     "output_type": "execute_result"
    }
   ],
   "source": [
    "(3*4)+5"
   ]
  },
  {
   "cell_type": "code",
   "execution_count": 6,
   "id": "bc9f87f7",
   "metadata": {},
   "outputs": [
    {
     "name": "stdout",
     "output_type": "stream",
     "text": [
      "3:20\n"
     ]
    }
   ],
   "source": [
    "total_minutes = 200\n",
    "\n",
    "hours = total_minutes // 60\n",
    "minutes = total_minutes % 60\n",
    "time = \"{}:{}\".format(hours, minutes)\n",
    "\n",
    "print(time)"
   ]
  },
  {
   "cell_type": "code",
   "execution_count": null,
   "id": "506a9140",
   "metadata": {},
   "outputs": [],
   "source": []
  }
 ],
 "metadata": {
  "kernelspec": {
   "display_name": "Python 3 (ipykernel)",
   "language": "python",
   "name": "python3"
  },
  "language_info": {
   "codemirror_mode": {
    "name": "ipython",
    "version": 3
   },
   "file_extension": ".py",
   "mimetype": "text/x-python",
   "name": "python",
   "nbconvert_exporter": "python",
   "pygments_lexer": "ipython3",
   "version": "3.9.13"
  }
 },
 "nbformat": 4,
 "nbformat_minor": 5
}
